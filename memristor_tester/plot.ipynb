{
 "cells": [
  {
   "cell_type": "code",
   "execution_count": 1,
   "id": "b5e66da9",
   "metadata": {},
   "outputs": [],
   "source": [
    "# SECENGUP\n",
    "import xml.etree.ElementTree as ET\n",
    "import pandas as pd\n",
    "import matplotlib.pyplot as plt\n",
    "import re\n",
    "from io import StringIO"
   ]
  },
  {
   "cell_type": "code",
   "execution_count": 2,
   "id": "7647d63c",
   "metadata": {},
   "outputs": [],
   "source": [
    "def plot_single_file(filename):\n",
    "    data = pd.read_csv(filename)[0:2000]\n",
    "    print(len(data))\n",
    "    plt.scatter(data['time'], data['input'], s=1, label=filename)\n",
    "    plt.scatter(data['time'], data['output'], s=1, label=filename)"
   ]
  },
  {
   "cell_type": "code",
   "execution_count": 3,
   "id": "07208162",
   "metadata": {
    "scrolled": false
   },
   "outputs": [],
   "source": [
    "tree = ET.parse('data/meta.xml')\n",
    "tests = tree.getroot()\n",
    "\n",
    "def parse_test(test):\n",
    "    dic = {}\n",
    "    for child in test:\n",
    "        dic[child.tag] = child.text\n",
    "    return dic\n",
    "\n",
    "def is_tip_line(line):\n",
    "    return line[0:4] == 'time'\n",
    "\n",
    "\n",
    "def split_file(file):\n",
    "    lines = open(file, 'r').readlines()\n",
    "    str_cycles = []\n",
    "    current_cycle = \"\"\n",
    "    for line in lines:\n",
    "        if (is_tip_line(line)):\n",
    "            str_cycles.append(current_cycle)\n",
    "            current_cycle = line\n",
    "        else:\n",
    "            current_cycle += line\n",
    "    str_cycles.append(current_cycle)\n",
    "    str_cycles = str_cycles[1:]\n",
    "    cycles = []\n",
    "    for str_cycle in str_cycles:\n",
    "        csv = pd.read_csv(StringIO(str_cycle))\n",
    "        cycles.append([list(csv['input']), list(csv['output'])])\n",
    "    return cycles\n",
    "        \n",
    "\n",
    "# for test in tests:\n",
    "#     dic = parse_test(test)\n",
    "#     file = dic['file']\n",
    "# #     plot_single_file(file)\n",
    "#     split_file(file)\n",
    "# cycles = split_file(\"data/2_13_100_12\")\n",
    "# cycle0 = cycles[0]\n",
    "# plt.scatter(cycle0[0], cycle0[1], s=1, label=\"fwe\")\n",
    "# plt.scatter(data['time'], data['output'], s=1, label=filename)\n",
    "# cycle = StringIO(str_cycles[0])\n",
    "# list(pd.read_csv(cycle)['input'])"
   ]
  },
  {
   "cell_type": "code",
   "execution_count": 4,
   "id": "f2f5ce11",
   "metadata": {},
   "outputs": [],
   "source": [
    "def plot_file(filename):\n",
    "    data = pd.read_csv(filename) # input\n",
    "    plt.title(filename)\n",
    "    plt.scatter(data['input'], data['output'], s=1, label=filename)\n"
   ]
  },
  {
   "cell_type": "code",
   "execution_count": 130,
   "id": "8c00b93b",
   "metadata": {},
   "outputs": [],
   "source": [
    "import math\n",
    "\n",
    "def get_zero_points(filename):\n",
    "    data = pd.read_csv(filename)\n",
    "    input_data = data['input']\n",
    "    is_positive = input_data[0] > 0\n",
    "    zero_points = []\n",
    "    for i in range(len(data)):\n",
    "        new_is_positive = input_data[i] > 0\n",
    "        if (is_positive != new_is_positive):\n",
    "            # met a zero points\n",
    "            zero_points.append(i)\n",
    "            is_positive = new_is_positive\n",
    "    return zero_points\n",
    "\n",
    "# test_file = \"data/2_1_100_12_1632217099\"\n",
    "# test_zero_points = get_zero_points(test_file)\n",
    "# print(test_zero_points, len(test_zero_points))"
   ]
  },
  {
   "cell_type": "code",
   "execution_count": 126,
   "id": "11747f0f",
   "metadata": {},
   "outputs": [],
   "source": [
    "def plot_cycle(cycle):\n",
    "    time_list = list(cycle['time'])\n",
    "    input_list = list(cycle['input'])\n",
    "    output_list = list(cycle['output'])\n",
    "    \n",
    "    plt.figure()\n",
    "    plt.plot(time_list, input_list, label=\"input\")\n",
    "    plt.plot(time_list, output_list, label=\"output\")\n",
    "\n",
    "def split_cycles(filename):\n",
    "    data = pd.read_csv(filename)\n",
    "    zero_points = get_zero_points(filename)\n",
    "    zero_points_len = len(zero_points)\n",
    "    cycles = []\n",
    "    for i in range(0, zero_points_len, 2):\n",
    "        start = zero_points[i]\n",
    "        if (i + 2 < zero_points_len):\n",
    "            end = zero_points[i+2]\n",
    "        else:\n",
    "            end = len(data)\n",
    "        if (end - start < 80):\n",
    "            raise Error('Split Cycles Error')\n",
    "        frame = data[start : end]\n",
    "#         if (i == 0):\n",
    "#             print([list(frame['input']), list(frame['output'])])\n",
    "        cycles.append([list(frame['input']), list(frame['output'])])\n",
    "    return cycles\n",
    "\n",
    "# cycles = split_cycles('/Users/lwh/Downloads/test_data/KNOWM_Memristors/Chip1/1000/1_7_1000_12_1631626903')\n",
    "# print(len(cycles))\n",
    "# print(cycles[100])\n",
    "# print([list(cycles[0]['input']), list(cycles[0]['output'])])"
   ]
  },
  {
   "cell_type": "code",
   "execution_count": 127,
   "id": "11d1495e",
   "metadata": {},
   "outputs": [],
   "source": [
    "# import os\n",
    "# directory_str = '/Users/lwh/Downloads/test_data/'\n",
    "# directory = os.fsencode(directory_str)\n",
    "\n",
    "# a = 0\n",
    "# for root, subdirs, files in os.walk(directory):\n",
    "#     for file in files:\n",
    "#         if (file == b'.DS_Store' or file == b'meta.xml'):\n",
    "#             continue\n",
    "#         filepath = os.path.join(root, file).decode('utf-8')\n",
    "#         cycles = split_cycles(filepath)\n",
    "#         print(len(cycles))"
   ]
  },
  {
   "cell_type": "code",
   "execution_count": 128,
   "id": "e1dd2cf0",
   "metadata": {},
   "outputs": [],
   "source": [
    "def plot_files(filenames, mix = False):\n",
    "    for filename in filenames:\n",
    "        if (not mix):\n",
    "            plt.figure()\n",
    "        plot_file(filename)\n",
    "        plt.legend()"
   ]
  },
  {
   "cell_type": "code",
   "execution_count": 129,
   "id": "bb2471c1",
   "metadata": {
    "scrolled": true
   },
   "outputs": [],
   "source": [
    "def get_real_value(key, test):\n",
    "    text_value = test.find(key).text\n",
    "    if (key == 'voltage'):\n",
    "        return float(text_value)\n",
    "    elif (key == 'file'):\n",
    "        return text_value\n",
    "    else:\n",
    "        return int(text_value)\n",
    "\n",
    "def is_valid(dic, test):\n",
    "    v = False\n",
    "    if (test.find('frequency').text == '200' and float(test.find('voltage').text) == 0.5):\n",
    "        v = True\n",
    "    for key in dic.keys():\n",
    "        real_value = get_real_value(key, test)\n",
    "        if (key == 'file'):\n",
    "            if (not re.search(dic[key], real_value)):\n",
    "                return False\n",
    "        elif (real_value != dic[key]):\n",
    "            return False\n",
    "    return True\n",
    "    \n",
    "def filter(dic):\n",
    "    keys = list(dic.keys())\n",
    "    filenames = []\n",
    "    for test in root.findall('test'):\n",
    "        if (is_valid(dic, test)):\n",
    "            filenames.append(test.find('file').text)\n",
    "    return filenames\n",
    "\n",
    "# filenames = filter({\"frequency\": 500, \"voltage\": 0.8})"
   ]
  },
  {
   "cell_type": "code",
   "execution_count": 185,
   "id": "9af9415a",
   "metadata": {},
   "outputs": [
    {
     "name": "stdout",
     "output_type": "stream",
     "text": [
      "3680\n"
     ]
    }
   ],
   "source": [
    "from random import randint\n",
    "\n",
    "labels = []\n",
    "train_data = []\n",
    "\n",
    "cells = 16\n",
    "data_len = 950\n",
    "\n",
    "def parse_test(test):\n",
    "    dic = {}\n",
    "    for child in test:\n",
    "        dic[child.tag] = child.text\n",
    "    return dic\n",
    "\n",
    "def get_label(cell_number):\n",
    "    label = [0] * cells\n",
    "    label[cell_number - 1] = 1\n",
    "    return label\n",
    "\n",
    "def trim_cycle(cycle):\n",
    "    while (len(cycle[0]) > data_len):\n",
    "        pos = randint(0, len(cycle[0]) - 1)\n",
    "        cycle[0].pop(pos)\n",
    "        cycle[1].pop(pos)\n",
    "\n",
    "t_voltage = 1.2\n",
    "t_frequency = 100\n",
    "cycles_num = 30\n",
    "\n",
    "tree = ET.parse('data/meta.xml')\n",
    "tests = tree.getroot()\n",
    "\n",
    "for test in tests:\n",
    "    dic = parse_test(test)\n",
    "    cell_number = int(dic['cell'])\n",
    "    file = dic['file']\n",
    "    voltage = float(dic['voltage'])\n",
    "    frequency = int(dic['frequency'])\n",
    "#     cycles = split_cycles(file)\n",
    "    cycles = split_file(file)\n",
    "    \n",
    "# #     if (len(cycles) == 0):\n",
    "# #         # measurement errors;\n",
    "# #         # nomarlly no more than 10 cycles in a test file;\n",
    "# #         # drop these error files\n",
    "# #         continue\n",
    "#     if (cell_number > cells):\n",
    "#         continue\n",
    "    if (voltage != t_voltage or frequency != t_frequency):\n",
    "        continue\n",
    "    for cycle in cycles:\n",
    "        trim_cycle(cycle)\n",
    "        labels.append(get_label(cell_number))\n",
    "        train_data.append(cycle)\n",
    "\n",
    "print(len(train_data))"
   ]
  },
  {
   "cell_type": "code",
   "execution_count": 189,
   "id": "acbfab48",
   "metadata": {},
   "outputs": [
    {
     "name": "stdout",
     "output_type": "stream",
     "text": [
      "tf.Tensor([3680    2  950], shape=(3,), dtype=int32)\n",
      "Model: \"sequential_32\"\n",
      "_________________________________________________________________\n",
      "Layer (type)                 Output Shape              Param #   \n",
      "=================================================================\n",
      "flatten_32 (Flatten)         (None, 1900)              0         \n",
      "_________________________________________________________________\n",
      "dense_64 (Dense)             (None, 500)               950500    \n",
      "_________________________________________________________________\n",
      "dense_65 (Dense)             (None, 16)                8016      \n",
      "=================================================================\n",
      "Total params: 958,516\n",
      "Trainable params: 958,516\n",
      "Non-trainable params: 0\n",
      "_________________________________________________________________\n",
      "Epoch 1/20\n",
      "412/412 [==============================] - 1s 3ms/step - loss: 4.1071 - accuracy: 0.2189 - val_loss: 3.3884 - val_accuracy: 0.2868\n",
      "Epoch 2/20\n",
      "412/412 [==============================] - 1s 3ms/step - loss: 2.4171 - accuracy: 0.3393 - val_loss: 2.0444 - val_accuracy: 0.3547\n",
      "Epoch 3/20\n",
      "412/412 [==============================] - 1s 3ms/step - loss: 1.7309 - accuracy: 0.4437 - val_loss: 2.0373 - val_accuracy: 0.4322\n",
      "Epoch 4/20\n",
      "412/412 [==============================] - 1s 3ms/step - loss: 1.4244 - accuracy: 0.5053 - val_loss: 1.3423 - val_accuracy: 0.5136\n",
      "Epoch 5/20\n",
      "412/412 [==============================] - 1s 3ms/step - loss: 1.2228 - accuracy: 0.5752 - val_loss: 1.1521 - val_accuracy: 0.6182\n",
      "Epoch 6/20\n",
      "412/412 [==============================] - 1s 3ms/step - loss: 1.0900 - accuracy: 0.6165 - val_loss: 1.0296 - val_accuracy: 0.5891\n",
      "Epoch 7/20\n",
      "412/412 [==============================] - 1s 3ms/step - loss: 1.0501 - accuracy: 0.6214 - val_loss: 0.9128 - val_accuracy: 0.6725\n",
      "Epoch 8/20\n",
      "412/412 [==============================] - 1s 3ms/step - loss: 0.9727 - accuracy: 0.6442 - val_loss: 1.2546 - val_accuracy: 0.5504\n",
      "Epoch 9/20\n",
      "412/412 [==============================] - 1s 3ms/step - loss: 0.9499 - accuracy: 0.6568 - val_loss: 0.9491 - val_accuracy: 0.6880\n",
      "Epoch 10/20\n",
      "412/412 [==============================] - 1s 3ms/step - loss: 0.9364 - accuracy: 0.6723 - val_loss: 0.7376 - val_accuracy: 0.7578\n",
      "Epoch 11/20\n",
      "412/412 [==============================] - 1s 3ms/step - loss: 0.8752 - accuracy: 0.6903 - val_loss: 1.0558 - val_accuracy: 0.6047\n",
      "Epoch 12/20\n",
      "412/412 [==============================] - 1s 3ms/step - loss: 0.9250 - accuracy: 0.6641 - val_loss: 0.7464 - val_accuracy: 0.7403\n",
      "Epoch 13/20\n",
      "412/412 [==============================] - 1s 3ms/step - loss: 0.7308 - accuracy: 0.7311 - val_loss: 0.8051 - val_accuracy: 0.7151\n",
      "Epoch 14/20\n",
      "412/412 [==============================] - 1s 3ms/step - loss: 0.8537 - accuracy: 0.6927 - val_loss: 1.0660 - val_accuracy: 0.6027\n",
      "Epoch 15/20\n",
      "412/412 [==============================] - 1s 3ms/step - loss: 0.8317 - accuracy: 0.7165 - val_loss: 0.7806 - val_accuracy: 0.7093\n",
      "Epoch 16/20\n",
      "412/412 [==============================] - 1s 3ms/step - loss: 0.8145 - accuracy: 0.7184 - val_loss: 0.8050 - val_accuracy: 0.7500\n",
      "Epoch 17/20\n",
      "412/412 [==============================] - 1s 3ms/step - loss: 0.7509 - accuracy: 0.7422 - val_loss: 0.7926 - val_accuracy: 0.7267\n",
      "Epoch 18/20\n",
      "412/412 [==============================] - 1s 3ms/step - loss: 0.7068 - accuracy: 0.7587 - val_loss: 0.8063 - val_accuracy: 0.6919\n",
      "Epoch 19/20\n",
      "412/412 [==============================] - 1s 3ms/step - loss: 0.7122 - accuracy: 0.7524 - val_loss: 0.6735 - val_accuracy: 0.7868\n",
      "Epoch 20/20\n",
      "412/412 [==============================] - 1s 3ms/step - loss: 0.6985 - accuracy: 0.7592 - val_loss: 0.8634 - val_accuracy: 0.6899\n",
      "35/35 - 0s - loss: 0.7931 - accuracy: 0.7391\n",
      "0.7931076884269714 0.739130437374115\n"
     ]
    }
   ],
   "source": [
    "import tensorflow as tf\n",
    "import numpy as np\n",
    "from sklearn.model_selection import train_test_split\n",
    "from tensorflow.keras import datasets, layers, models\n",
    "from tensorflow.keras.models import Sequential\n",
    "from tensorflow.keras.layers import Dense, Flatten\n",
    "import matplotlib.pyplot as plt\n",
    "\n",
    "# print(len(train_data))\n",
    "# print(tf.shape(train_data[0]))\n",
    "# print(train_data[5000])\n",
    "print(tf.shape(train_data))\n",
    "input_shape = (2, 950)\n",
    "\n",
    "model = models.Sequential()\n",
    "model.add(Flatten(input_shape=input_shape))\n",
    "model.add(Dense(500,activation='relu'))\n",
    "model.add(Dense(cells, activation='softmax'))\n",
    "model.build(input_shape)\n",
    "model.summary()\n",
    "\n",
    "# Split data into test and training set\n",
    "X_train, X_test, y_train, y_test = train_test_split(np.array(train_data), np.array(labels), test_size=0.3, shuffle=True)\n",
    "\n",
    "# Set loss function and optimizer\n",
    "model.compile(loss='categorical_crossentropy', optimizer='adam', metrics=['accuracy'])\n",
    "\n",
    "# Start training\n",
    "history = model.fit(X_train, y_train, validation_split=0.2, epochs=20, batch_size=5, shuffle=True)\n",
    "\n",
    "\n",
    "# Evaluate using the test data\n",
    "test_loss, test_acc = model.evaluate(X_test,  y_test, verbose=2)\n",
    "print(test_loss, test_acc)"
   ]
  },
  {
   "cell_type": "code",
   "execution_count": 10,
   "id": "824ce269",
   "metadata": {},
   "outputs": [
    {
     "data": {
      "text/plain": [
       "<matplotlib.legend.Legend at 0x15f4e8160>"
      ]
     },
     "execution_count": 10,
     "metadata": {},
     "output_type": "execute_result"
    },
    {
     "data": {
      "image/png": "[encoded data removed]",
      "text/plain": [
       "<Figure size 432x288 with 1 Axes>"
      ]
     },
     "metadata": {
      "needs_background": "light"
     },
     "output_type": "display_data"
    },
    {
     "data": {
      "image/png": "[encoded data removed]",
      "text/plain": [
       "<Figure size 432x288 with 1 Axes>"
      ]
     },
     "metadata": {
      "needs_background": "light"
     },
     "output_type": "display_data"
    }
   ],
   "source": [
    "\n",
    "fig_loss, ax_loss = plt.subplots()\n",
    "ax_loss.plot(history.history['loss'], label='loss')\n",
    "ax_loss.plot(history.history['val_loss'], label='val_loss')\n",
    "ax_loss.set_xlabel('Epoch')\n",
    "ax_loss.set_ylabel('Loss')\n",
    "ax_loss.legend(loc='lower right')\n",
    "\n",
    "fig, ax = plt.subplots()\n",
    "\n",
    "ax.plot(history.history['accuracy'], label='accuracy')\n",
    "ax.plot(history.history['val_accuracy'], label = 'val_accuracy')\n",
    "ax.set_xlabel('Epoch')\n",
    "ax.set_ylabel('Accuracy')\n",
    "ax.legend(loc='lower right')"
   ]
  },
  {
   "cell_type": "code",
   "execution_count": null,
   "id": "5024b267",
   "metadata": {},
   "outputs": [],
   "source": [
    "predictions = model.predict(X_test)\n",
    "for i in range(len(prediction)):"
   ]
  },
  {
   "cell_type": "code",
   "execution_count": null,
   "id": "77bf4d9f",
   "metadata": {},
   "outputs": [],
   "source": []
  },
  {
   "cell_type": "code",
   "execution_count": null,
   "id": "f9bee384",
   "metadata": {},
   "outputs": [],
   "source": []
  }
 ],
 "metadata": {
  "kernelspec": {
   "display_name": "Python 3 (ipykernel)",
   "language": "python",
   "name": "python3"
  },
  "language_info": {
   "codemirror_mode": {
    "name": "ipython",
    "version": 3
   },
   "file_extension": ".py",
   "mimetype": "text/x-python",
   "name": "python",
   "nbconvert_exporter": "python",
   "pygments_lexer": "ipython3",
   "version": "3.9.6"
  }
 },
 "nbformat": 4,
 "nbformat_minor": 5
}
