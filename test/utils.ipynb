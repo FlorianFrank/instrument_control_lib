{
 "cells": [
  {
   "cell_type": "code",
   "execution_count": 4,
   "id": "8e1c876c",
   "metadata": {},
   "outputs": [],
   "source": [
    "from io import StringIO\n",
    "import xml.etree.ElementTree as ET\n",
    "\n",
    "def is_tip_line(line):\n",
    "    return line[0:4] == 'time'\n",
    "\n",
    "\n",
    "def split_file(file):\n",
    "    lines = open(file, 'r').readlines()\n",
    "    str_cycles = []\n",
    "    current_cycle = \"\"\n",
    "    for line in lines:\n",
    "        if (is_tip_line(line)):\n",
    "            str_cycles.append(current_cycle)\n",
    "            current_cycle = line\n",
    "        else:\n",
    "            current_cycle += line\n",
    "    str_cycles.append(current_cycle)\n",
    "    str_cycles = str_cycles[1:]\n",
    "    cycles = []\n",
    "    for str_cycle in str_cycles:\n",
    "        csv = pd.read_csv(StringIO(str_cycle))\n",
    "        cycles.append([list(csv['input']), list(csv['output'])])\n",
    "    return cycles"
   ]
  },
  {
   "cell_type": "code",
   "execution_count": 3,
   "id": "e4e170e2",
   "metadata": {},
   "outputs": [],
   "source": [
    "def parse_test(test):\n",
    "    dic = {}\n",
    "    for child in test:\n",
    "        dic[child.tag] = child.text\n",
    "    return dic\n"
   ]
  },
  {
   "cell_type": "code",
   "execution_count": null,
   "id": "a3a3eeef",
   "metadata": {},
   "outputs": [],
   "source": []
  }
 ],
 "metadata": {
  "kernelspec": {
   "display_name": "Python 3 (ipykernel)",
   "language": "python",
   "name": "python3"
  },
  "language_info": {
   "codemirror_mode": {
    "name": "ipython",
    "version": 3
   },
   "file_extension": ".py",
   "mimetype": "text/x-python",
   "name": "python",
   "nbconvert_exporter": "python",
   "pygments_lexer": "ipython3",
   "version": "3.9.6"
  }
 },
 "nbformat": 4,
 "nbformat_minor": 5
}
