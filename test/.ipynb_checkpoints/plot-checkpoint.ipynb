{
 "cells": [
  {
   "cell_type": "code",
   "execution_count": 212,
   "id": "b5e66da9",
   "metadata": {},
   "outputs": [],
   "source": [
    "import xml.etree.ElementTree as ET\n",
    "import pandas as pd\n",
    "import matplotlib.pyplot as plt\n",
    "import re"
   ]
  },
  {
   "cell_type": "code",
   "execution_count": 213,
   "id": "7647d63c",
   "metadata": {},
   "outputs": [],
   "source": [
    "def plot_single_file(filename):\n",
    "    data = pd.read_csv(filename)\n",
    "    plt.plot(data['time'], data['input'], label=filename)\n",
    "    plt.plot(data['time'], data['output'], label=filename)"
   ]
  },
  {
   "cell_type": "code",
   "execution_count": 248,
   "id": "f2f5ce11",
   "metadata": {},
   "outputs": [
    {
     "data": {
      "image/png": "[encoded data removed]",
      "text/plain": [
       "<Figure size 432x288 with 1 Axes>"
      ]
     },
     "metadata": {
      "needs_background": "light"
     },
     "output_type": "display_data"
    }
   ],
   "source": [
    "def plot_file(filename):\n",
    "    data = pd.read_csv(filename) # input\n",
    "    plt.title(filename)\n",
    "    plt.scatter(data['input'], data['output'], s=1, label=filename)\n",
    "\n",
    "plot_file('data/1_4_100_12_1628855074')"
   ]
  },
  {
   "cell_type": "code",
   "execution_count": 215,
   "id": "e1dd2cf0",
   "metadata": {},
   "outputs": [],
   "source": [
    "def plot_files(filenames, mix = False):\n",
    "    for filename in filenames:\n",
    "        if (not mix):\n",
    "            plt.figure()\n",
    "        plot_file(filename)\n",
    "        plt.legend()"
   ]
  },
  {
   "cell_type": "code",
   "execution_count": 216,
   "id": "bb2471c1",
   "metadata": {
    "scrolled": true
   },
   "outputs": [],
   "source": [
    "tree = ET.parse('data/meta.xml')\n",
    "tests = tree.getroot()\n",
    "\n",
    "def get_real_value(key, test):\n",
    "    text_value = test.find(key).text\n",
    "    if (key == 'voltage'):\n",
    "        return float(text_value)\n",
    "    elif (key == 'file'):\n",
    "        return text_value\n",
    "    else:\n",
    "        return int(text_value)\n",
    "\n",
    "def is_valid(dic, test):\n",
    "    v = False\n",
    "    if (test.find('frequency').text == '200' and float(test.find('voltage').text) == 0.5):\n",
    "        v = True\n",
    "    for key in dic.keys():\n",
    "        real_value = get_real_value(key, test)\n",
    "        if (key == 'file'):\n",
    "            if (not re.search(dic[key], real_value)):\n",
    "                return False\n",
    "        elif (real_value != dic[key]):\n",
    "            return False\n",
    "    return True\n",
    "    \n",
    "def filter(dic):\n",
    "    keys = list(dic.keys())\n",
    "    filenames = []\n",
    "    for test in root.findall('test'):\n",
    "        if (is_valid(dic, test)):\n",
    "            filenames.append(test.find('file').text)\n",
    "    return filenames\n",
    "\n",
    "# filenames = filter({\"frequency\": 500, \"voltage\": 0.8})"
   ]
  },
  {
   "cell_type": "code",
   "execution_count": 268,
   "id": "4cf8068c",
   "metadata": {
    "scrolled": false
   },
   "outputs": [],
   "source": [
    "import math\n",
    "\n",
    "def get_zero_points(filename):\n",
    "    data = pd.read_csv(filename)\n",
    "    input_data = data['input']\n",
    "    is_positive = input_data[0] > 0\n",
    "    zero_points = []\n",
    "    for i in range(len(data)):\n",
    "        new_is_positive = input_data[i] > 0\n",
    "        if (is_positive != new_is_positive):\n",
    "            # met a zero points\n",
    "            zero_points.append(i)\n",
    "            is_positive = new_is_positive\n",
    "    return zero_points\n",
    "\n",
    "cycles_per_file = 10\n",
    "\n",
    "def split_cycles(filename):\n",
    "    data = pd.read_csv(filename)\n",
    "    cycles = []\n",
    "#     cycles.append([list(data['input']), list(data['output'])])\n",
    "    data_len = len(data['input'])\n",
    "    points_per_cycle = math.ceil(data_len / cycles_per_file)\n",
    "    for i in range(0, data_len, points_per_cycle):\n",
    "        input_data = data['input'][i:i+points_per_cycle]\n",
    "        output_data = data['output'][i:i+points_per_cycle]\n",
    "        if (len(input_data) < 90):\n",
    "            continue\n",
    "        cycles.append([list(input_data), list(output_data)])\n",
    "    return cycles"
   ]
  },
  {
   "cell_type": "code",
   "execution_count": 275,
   "id": "9af9415a",
   "metadata": {},
   "outputs": [
    {
     "name": "stdout",
     "output_type": "stream",
     "text": [
      "800\n"
     ]
    }
   ],
   "source": [
    "from random import randint\n",
    "\n",
    "labels = []\n",
    "train_data = []\n",
    "\n",
    "cells = 8\n",
    "data_len = 90\n",
    "\n",
    "def parse_test(test):\n",
    "    dic = {}\n",
    "    for child in test:\n",
    "        dic[child.tag] = child.text\n",
    "    return dic\n",
    "\n",
    "def get_label(cell_number):\n",
    "    label = [0] * cells\n",
    "    label[cell_number - 1] = 1\n",
    "    return label\n",
    "\n",
    "def trim_cycle(cycle):\n",
    "    while (len(cycle[0]) > data_len):\n",
    "        pos = randint(0, len(cycle[0]) - 1)\n",
    "        cycle[0].pop(pos)\n",
    "        cycle[1].pop(pos)\n",
    "\n",
    "t_voltage = 1.2\n",
    "t_frequency = 100\n",
    "\n",
    "for test in tests:\n",
    "    dic = parse_test(test)\n",
    "    cell_number = int(dic['cell'])\n",
    "    file = dic['file']\n",
    "    voltage = float(dic['voltage'])\n",
    "    frequency = int(dic['frequency'])\n",
    "    cycles = split_cycles(file)\n",
    "    if (len(cycles) == 0):\n",
    "        # measurement errors;\n",
    "        # nomarlly no more than 10 cycles in a test file;\n",
    "        # drop these error files\n",
    "        continue\n",
    "    if (cell_number > cells):\n",
    "        continue\n",
    "    if (voltage != t_voltage or frequency != t_frequency):\n",
    "        continue\n",
    "    for cycle in cycles:\n",
    "        trim_cycle(cycle)\n",
    "        labels.append(get_label(cell_number))\n",
    "        train_data.append(cycle)\n",
    "\n",
    "print(len(train_data))"
   ]
  },
  {
   "cell_type": "code",
   "execution_count": 276,
   "id": "191c7ed0",
   "metadata": {},
   "outputs": [],
   "source": [
    "# print(labels[-1])\n",
    "# print(train_data[-1])\n",
    "# plt.scatter(train_data[-1][0], train_data[-1][1], s=1)\n",
    "# plt.scatter(train_data[0][0], train_data[0][1], s=1)\n",
    "# cycles = split_cycles('data/1_4_100_12_1628855077')\n",
    "# # print(cycles[0])\n",
    "# plt.scatter(cycles[1][0], cycles[1][1], s=1)\n",
    "# data = pd.read_csv('data/1_4_100_12_1628855077') # input\n",
    "# # plt.title(filename)\n",
    "# print(len(data['input']))\n",
    "# plt.scatter(data['time'][0:1000], data['output'][0:1000], s=1, label=filename)\n",
    "# plt.scatter(data['input'][700:1000], data['output'][700:1000], s=1, label=filename)\n"
   ]
  },
  {
   "cell_type": "code",
   "execution_count": 277,
   "id": "acbfab48",
   "metadata": {},
   "outputs": [
    {
     "name": "stdout",
     "output_type": "stream",
     "text": [
      "tf.Tensor([800   2  90], shape=(3,), dtype=int32)\n",
      "Model: \"sequential_31\"\n",
      "_________________________________________________________________\n",
      "Layer (type)                 Output Shape              Param #   \n",
      "=================================================================\n",
      "flatten_29 (Flatten)         (None, 180)               0         \n",
      "_________________________________________________________________\n",
      "dense_58 (Dense)             (None, 50)                9050      \n",
      "_________________________________________________________________\n",
      "dense_59 (Dense)             (None, 8)                 408       \n",
      "=================================================================\n",
      "Total params: 9,458\n",
      "Trainable params: 9,458\n",
      "Non-trainable params: 0\n",
      "_________________________________________________________________\n",
      "Epoch 1/20\n",
      "90/90 [==============================] - 1s 5ms/step - loss: 1.9059 - accuracy: 0.2656 - val_loss: 1.6802 - val_accuracy: 0.4464\n",
      "Epoch 2/20\n",
      "90/90 [==============================] - 0s 2ms/step - loss: 1.5695 - accuracy: 0.4308 - val_loss: 1.5590 - val_accuracy: 0.4018\n",
      "Epoch 3/20\n",
      "90/90 [==============================] - 0s 2ms/step - loss: 1.3925 - accuracy: 0.5335 - val_loss: 1.3739 - val_accuracy: 0.5446\n",
      "Epoch 4/20\n",
      "90/90 [==============================] - 0s 2ms/step - loss: 1.2586 - accuracy: 0.5647 - val_loss: 1.1845 - val_accuracy: 0.6250\n",
      "Epoch 5/20\n",
      "90/90 [==============================] - 0s 2ms/step - loss: 1.1206 - accuracy: 0.6473 - val_loss: 1.1623 - val_accuracy: 0.5982\n",
      "Epoch 6/20\n",
      "90/90 [==============================] - 0s 2ms/step - loss: 1.0375 - accuracy: 0.6585 - val_loss: 1.0260 - val_accuracy: 0.6339\n",
      "Epoch 7/20\n",
      "90/90 [==============================] - 0s 2ms/step - loss: 0.9625 - accuracy: 0.6585 - val_loss: 0.9172 - val_accuracy: 0.6964\n",
      "Epoch 8/20\n",
      "90/90 [==============================] - 0s 2ms/step - loss: 0.8864 - accuracy: 0.6540 - val_loss: 0.9430 - val_accuracy: 0.6607\n",
      "Epoch 9/20\n",
      "90/90 [==============================] - 0s 2ms/step - loss: 0.8397 - accuracy: 0.6987 - val_loss: 0.8570 - val_accuracy: 0.6696\n",
      "Epoch 10/20\n",
      "90/90 [==============================] - 0s 2ms/step - loss: 0.8021 - accuracy: 0.6942 - val_loss: 0.8073 - val_accuracy: 0.7679\n",
      "Epoch 11/20\n",
      "90/90 [==============================] - 0s 2ms/step - loss: 0.7587 - accuracy: 0.7366 - val_loss: 0.7435 - val_accuracy: 0.7411\n",
      "Epoch 12/20\n",
      "90/90 [==============================] - 0s 1ms/step - loss: 0.7385 - accuracy: 0.7366 - val_loss: 0.7351 - val_accuracy: 0.7679\n",
      "Epoch 13/20\n",
      "90/90 [==============================] - 0s 2ms/step - loss: 0.6856 - accuracy: 0.7701 - val_loss: 0.7237 - val_accuracy: 0.7054\n",
      "Epoch 14/20\n",
      "90/90 [==============================] - 0s 2ms/step - loss: 0.6768 - accuracy: 0.7656 - val_loss: 0.7511 - val_accuracy: 0.6875\n",
      "Epoch 15/20\n",
      "90/90 [==============================] - 0s 2ms/step - loss: 0.6292 - accuracy: 0.7679 - val_loss: 0.7323 - val_accuracy: 0.7054\n",
      "Epoch 16/20\n",
      "90/90 [==============================] - 0s 2ms/step - loss: 0.6121 - accuracy: 0.7812 - val_loss: 0.6360 - val_accuracy: 0.7589\n",
      "Epoch 17/20\n",
      "90/90 [==============================] - 0s 2ms/step - loss: 0.6049 - accuracy: 0.8013 - val_loss: 0.6254 - val_accuracy: 0.8214\n",
      "Epoch 18/20\n",
      "90/90 [==============================] - 0s 2ms/step - loss: 0.5609 - accuracy: 0.8281 - val_loss: 0.6866 - val_accuracy: 0.7411\n",
      "Epoch 19/20\n",
      "90/90 [==============================] - 0s 2ms/step - loss: 0.5467 - accuracy: 0.8147 - val_loss: 0.6059 - val_accuracy: 0.8125\n",
      "Epoch 20/20\n",
      "90/90 [==============================] - 0s 2ms/step - loss: 0.5331 - accuracy: 0.8214 - val_loss: 0.6144 - val_accuracy: 0.7679\n",
      "8/8 - 0s - loss: 0.7607 - accuracy: 0.7208\n",
      "0.7606762647628784 0.7208333611488342\n"
     ]
    }
   ],
   "source": [
    "import tensorflow as tf\n",
    "import numpy as np\n",
    "from sklearn.model_selection import train_test_split\n",
    "from tensorflow.keras import datasets, layers, models\n",
    "from tensorflow.keras.models import Sequential\n",
    "from tensorflow.keras.layers import Dense, Flatten\n",
    "import matplotlib.pyplot as plt\n",
    "\n",
    "print(tf.shape(train_data))\n",
    "input_shape = (2, 90)\n",
    "\n",
    "model = models.Sequential()\n",
    "model.add(Flatten(input_shape=input_shape))\n",
    "model.add(Dense(50,activation='relu'))\n",
    "model.add(Dense(cells, activation='softmax'))\n",
    "model.build(input_shape)\n",
    "model.summary()\n",
    "\n",
    "# Split data into test and training set\n",
    "X_train, X_test, y_train, y_test = train_test_split(np.array(train_data), np.array(labels), test_size=0.3, shuffle=True)\n",
    "\n",
    "# Set loss function and optimizer\n",
    "model.compile(loss='categorical_crossentropy', optimizer='adam', metrics=['accuracy'])\n",
    "\n",
    "# Start training\n",
    "history = model.fit(X_train, y_train, validation_split=0.2, epochs=20, batch_size=5, shuffle=True)\n",
    "\n",
    "\n",
    "# Evaluate using the test data\n",
    "test_loss, test_acc = model.evaluate(X_test,  y_test, verbose=2)\n",
    "print(test_loss, test_acc)"
   ]
  },
  {
   "cell_type": "code",
   "execution_count": 231,
   "id": "824ce269",
   "metadata": {},
   "outputs": [
    {
     "data": {
      "text/plain": [
       "<matplotlib.legend.Legend at 0x1605bf6a0>"
      ]
     },
     "execution_count": 231,
     "metadata": {},
     "output_type": "execute_result"
    },
    {
     "data": {
      "image/png": "[encoded data removed]",
      "text/plain": [
       "<Figure size 432x288 with 1 Axes>"
      ]
     },
     "metadata": {
      "needs_background": "light"
     },
     "output_type": "display_data"
    },
    {
     "data": {
      "image/png": "[encoded data removed]",
      "text/plain": [
       "<Figure size 432x288 with 1 Axes>"
      ]
     },
     "metadata": {
      "needs_background": "light"
     },
     "output_type": "display_data"
    }
   ],
   "source": [
    "\n",
    "fig_loss, ax_loss = plt.subplots()\n",
    "ax_loss.plot(history.history['loss'], label='loss')\n",
    "ax_loss.plot(history.history['val_loss'], label='val_loss')\n",
    "ax_loss.set_xlabel('Epoch')\n",
    "ax_loss.set_ylabel('Loss')\n",
    "ax_loss.legend(loc='lower right')\n",
    "\n",
    "fig, ax = plt.subplots()\n",
    "\n",
    "ax.plot(history.history['accuracy'], label='accuracy')\n",
    "ax.plot(history.history['val_accuracy'], label = 'val_accuracy')\n",
    "ax.set_xlabel('Epoch')\n",
    "ax.set_ylabel('Accuracy')\n",
    "ax.legend(loc='lower right')"
   ]
  },
  {
   "cell_type": "code",
   "execution_count": null,
   "id": "5024b267",
   "metadata": {},
   "outputs": [],
   "source": [
    "predictions = model.predict(X_test)\n",
    "for i in range(len(prediction)):"
   ]
  },
  {
   "cell_type": "code",
   "execution_count": null,
   "id": "77bf4d9f",
   "metadata": {},
   "outputs": [],
   "source": []
  },
  {
   "cell_type": "code",
   "execution_count": null,
   "id": "f9bee384",
   "metadata": {},
   "outputs": [],
   "source": []
  }
 ],
 "metadata": {
  "kernelspec": {
   "display_name": "Python 3 (ipykernel)",
   "language": "python",
   "name": "python3"
  },
  "language_info": {
   "codemirror_mode": {
    "name": "ipython",
    "version": 3
   },
   "file_extension": ".py",
   "mimetype": "text/x-python",
   "name": "python",
   "nbconvert_exporter": "python",
   "pygments_lexer": "ipython3",
   "version": "3.9.6"
  }
 },
 "nbformat": 4,
 "nbformat_minor": 5
}
