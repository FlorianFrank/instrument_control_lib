{
 "cells": [
  {
   "cell_type": "code",
   "execution_count": 2,
   "id": "1db4ca3c",
   "metadata": {},
   "outputs": [],
   "source": [
    "from io import StringIO\n",
    "\n",
    "def is_tip_line(line):\n",
    "    return line[0:4] == 'time'\n",
    "\n",
    "\n",
    "def split_file(file):\n",
    "    lines = open(file, 'r').readlines()\n",
    "    str_cycles = []\n",
    "    current_cycle = \"\"\n",
    "    for line in lines:\n",
    "        if (is_tip_line(line)):\n",
    "            str_cycles.append(current_cycle)\n",
    "            current_cycle = line\n",
    "        else:\n",
    "            current_cycle += line\n",
    "    str_cycles.append(current_cycle)\n",
    "    str_cycles = str_cycles[1:]\n",
    "    cycles = []\n",
    "    for str_cycle in str_cycles:\n",
    "        csv = pd.read_csv(StringIO(str_cycle))\n",
    "        cycles.append([list(csv['input']), list(csv['output'])])\n",
    "    return cycles"
   ]
  },
  {
   "cell_type": "code",
   "execution_count": null,
   "id": "8ee95af5",
   "metadata": {},
   "outputs": [],
   "source": []
  }
 ],
 "metadata": {
  "kernelspec": {
   "display_name": "Python 3 (ipykernel)",
   "language": "python",
   "name": "python3"
  },
  "language_info": {
   "codemirror_mode": {
    "name": "ipython",
    "version": 3
   },
   "file_extension": ".py",
   "mimetype": "text/x-python",
   "name": "python",
   "nbconvert_exporter": "python",
   "pygments_lexer": "ipython3",
   "version": "3.9.6"
  }
 },
 "nbformat": 4,
 "nbformat_minor": 5
}
